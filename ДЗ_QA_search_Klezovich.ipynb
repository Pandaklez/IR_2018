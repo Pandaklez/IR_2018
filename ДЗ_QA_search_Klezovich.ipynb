{
 "cells": [
  {
   "cell_type": "markdown",
   "metadata": {},
   "source": [
    "## ДЗ по поиску\n",
    "\n",
    "Привет! Вам надо реализивать поисковик на базе вопросов-ответов с сайта [pravoved.ru](https://pravoved.ru/questions-archive/).        \n",
    "Поиск должен работать на трех технологиях:       \n",
    "1. обратном индексе     \n",
    "2. word2vec         \n",
    "3. doc2vec      \n",
    "\n",
    "Вы должны понять, какой метод и при каких условиях эксперимента на этом корпусе работает лучше.          \n",
    "Для измерения качества поиска найдите точность (accuracy) выпадания правильного ответа на конкретный вопрос (в этой базе у каждого вопроса есть только один правильный ответ). Точность нужно измерить для всей базы.    \n",
    "При этом давайте считать, что выпал правильный ответ, если он попал в **топ-5** поисковой выдачи.\n",
    "\n",
    "> Сделайте ваш поиск максимально качественным, чтобы значение точности стремилось к 1.     \n",
    "Для этого можно поэкспериментировать со следующим:       \n",
    "- модель word2vec (можно брать любую из опен сорса или обучить свою)\n",
    "- способ получения вектора документа через word2vec: простое среднее арифметическое или взвешивать каждый вектор в соответствии с его tf-idf      \n",
    "- количество эпох у doc2vec (начинайте от 100)\n",
    "- предобработка документов для обучения doc2vec (удалять / не удалять стоп-слова)\n",
    "- блендинг методов поиска: соединить результаты обратного индекса и w2v, или (что проще) w2v и d2v\n",
    "\n",
    "На это задание отведем 10 дней. Дэдлайн сдачи до полуночи 12.10."
   ]
  },
  {
   "cell_type": "code",
   "execution_count": 1,
   "metadata": {},
   "outputs": [
    {
     "name": "stderr",
     "output_type": "stream",
     "text": [
      "c:\\py_37_env\\lib\\site-packages\\ipykernel\\parentpoller.py:116: UserWarning: Parent poll failed.  If the frontend dies,\n",
      "                the kernel may be left running.  Please let us know\n",
      "                about your system (bitness, Python, etc.) at\n",
      "                ipython-dev@scipy.org\n",
      "  ipython-dev@scipy.org\"\"\")\n"
     ]
    }
   ],
   "source": [
    "import pickle\n",
    "\n",
    "with open('qa_corpus.pkl', 'rb') as file:\n",
    "    qa_corpus = pickle.load(file)"
   ]
  },
  {
   "cell_type": "markdown",
   "metadata": {},
   "source": [
    "Всего в корпусе 1384 пары вопрос-ответ"
   ]
  },
  {
   "cell_type": "code",
   "execution_count": 4,
   "metadata": {},
   "outputs": [
    {
     "data": {
      "text/plain": [
       "list"
      ]
     },
     "execution_count": 4,
     "metadata": {},
     "output_type": "execute_result"
    }
   ],
   "source": [
    "type(qa_corpus)"
   ]
  },
  {
   "cell_type": "markdown",
   "metadata": {},
   "source": [
    "Первый элемент блока это вопрос, второй - ответ на него"
   ]
  },
  {
   "cell_type": "code",
   "execution_count": 3,
   "metadata": {},
   "outputs": [
    {
     "data": {
      "text/plain": [
       "'\\nЗдравствуйте, я продаю комнату в 4х комнатной квартире. С одним из соседей у меня долевка. Лицевые счета разные. Риелтор говорит что при продаже нужно будет оплачивать натариусу налог с дохода. 17400. Продала за 450000. Сама буду брать квартиру в ипотеку.\\n'"
      ]
     },
     "execution_count": 3,
     "metadata": {},
     "output_type": "execute_result"
    }
   ],
   "source": [
    "qa_corpus[1][0]"
   ]
  },
  {
   "cell_type": "markdown",
   "metadata": {},
   "source": [
    "## Word2vec"
   ]
  },
  {
   "cell_type": "markdown",
   "metadata": {},
   "source": [
    "#### Начнем с модели из опенсорса без pos-tagging"
   ]
  },
  {
   "cell_type": "code",
   "execution_count": 2,
   "metadata": {},
   "outputs": [],
   "source": [
    "import warnings\n",
    "warnings.filterwarnings(action='ignore', module='gensim')\n",
    "\n",
    "import gensim\n",
    "from gensim.models import Word2Vec, KeyedVectors"
   ]
  },
  {
   "cell_type": "code",
   "execution_count": 3,
   "metadata": {},
   "outputs": [],
   "source": [
    "from tqdm import tqdm_notebook as tqdm\n",
    "import re\n",
    "from judicial_splitter import splitter\n",
    "import pandas as pd"
   ]
  },
  {
   "cell_type": "code",
   "execution_count": 4,
   "metadata": {},
   "outputs": [],
   "source": [
    "model_path = 'araneum_none_fasttextcbow_300_5_2018/araneum_none_fasttextcbow_300_5_2018.model'\n",
    "model = Word2Vec.load(model_path)"
   ]
  },
  {
   "cell_type": "code",
   "execution_count": 5,
   "metadata": {},
   "outputs": [],
   "source": [
    "import pymorphy2\n",
    "morph = pymorphy2.MorphAnalyzer()\n",
    "import numpy as np\n",
    "from nltk.corpus import stopwords\n",
    "from nltk.tokenize import word_tokenize\n",
    "import string\n",
    "\n",
    "\n",
    "def preprocessing(input_text, del_stopwords=True, del_digit=True):\n",
    "    \"\"\"\n",
    "    :input: raw text\n",
    "        1. lowercase, del punctuation, tokenize\n",
    "        2. normal form\n",
    "        3. del stopwords\n",
    "        4. del digits\n",
    "    :return: lemmas\n",
    "    \"\"\"\n",
    "    russian_stopwords = set(stopwords.words('russian'))\n",
    "    words = [x.lower().strip(string.punctuation+'»«–…') for x in word_tokenize(input_text)]\n",
    "    lemmas = [morph.parse(x)[0].normal_form for x in words if x]\n",
    "\n",
    "    lemmas_arr = []\n",
    "    for lemma in lemmas:\n",
    "        if del_stopwords:\n",
    "            if lemma in russian_stopwords:\n",
    "                continue\n",
    "        if del_digit:\n",
    "            if lemma.isdigit():\n",
    "                continue\n",
    "        lemmas_arr.append(lemma)\n",
    "    return lemmas_arr"
   ]
  },
  {
   "cell_type": "code",
   "execution_count": 14,
   "metadata": {},
   "outputs": [],
   "source": [
    "def no_spaces(text):\n",
    "    \n",
    "    processed_text = text.replace('\\n', ' ').replace('\\n\\n', ' ').replace('ул. ', 'ул.').replace('г. ', 'г.').replace('гор. ', 'гор.').replace('с. ', 'с.')\n",
    "    return processed_text\n",
    "\n",
    "\n",
    "# убираем пробел после инициалов перед фамилией\n",
    "def clear_abbrs(processed_text):\n",
    "    initials = re.compile(r'[А-Я]{1}\\.[А-Я]{1}\\. [А-Я][а-яё]+')\n",
    "    counter = len(initials.findall(processed_text))\n",
    "\n",
    "    for s in range(counter):\n",
    "        get_abbrs = initials.search(processed_text)\n",
    "        i = get_abbrs.span()[0] + 4\n",
    "        processed_text = processed_text[:i] + processed_text[i+1:]\n",
    "    return processed_text"
   ]
  },
  {
   "cell_type": "code",
   "execution_count": 14,
   "metadata": {},
   "outputs": [],
   "source": [
    "# this function works with preprocessing func result\n",
    "def get_w2v_vectors(lemmas_arr, model):\n",
    "    \"\"\"Получает вектор документа\"\"\"\n",
    "    if len(lemmas_arr) == 0:\n",
    "        doc_vec = np.zeros(300)\n",
    "    else:\n",
    "        vectors = []\n",
    "        for element in lemmas_arr:\n",
    "            try:\n",
    "                vec = model.wv[element]\n",
    "                # len(vec) this gives us 300\n",
    "            except KeyError:\n",
    "                continue\n",
    "            vectors.append(vec)\n",
    "        vec_sum = np.zeros(300)\n",
    "        for v in vectors:\n",
    "            vec_sum += v\n",
    "        doc_vec = vec_sum/len(vectors)   # усредненный вектор как опознаватель\n",
    "    return doc_vec"
   ]
  },
  {
   "cell_type": "code",
   "execution_count": 15,
   "metadata": {},
   "outputs": [],
   "source": [
    "# индексирует ответы\n",
    "def save_w2v_base(qa_corpus, model):\n",
    "    \"\"\"Индексирует всю базу для поиска через word2vec\"\"\"\n",
    "    col_names =  ['answer_vec', 'question', 'answer']\n",
    "    dc  = pd.DataFrame(columns = col_names)\n",
    "    for pair in tqdm(qa_corpus):\n",
    "        question, answer = pair[0], pair[1]\n",
    "        vecs = []\n",
    "        for sentence in splitter(answer, 1):\n",
    "            vec = get_w2v_vectors(preprocessing(sentence, del_stopwords=False), model)\n",
    "            vecs.append(vec)\n",
    "        vec = (np.array(vecs).sum(axis=0)/len(vecs)).tolist()\n",
    "        dc.loc[len(dc)] = [vec, question, answer]\n",
    "    return dc"
   ]
  },
  {
   "cell_type": "code",
   "execution_count": 16,
   "metadata": {},
   "outputs": [
    {
     "data": {
      "application/vnd.jupyter.widget-view+json": {
       "model_id": "a034a0f263d747c19d6fdb388b7c6922",
       "version_major": 2,
       "version_minor": 0
      },
      "text/plain": [
       "HBox(children=(IntProgress(value=0, max=1384), HTML(value='')))"
      ]
     },
     "metadata": {},
     "output_type": "display_data"
    },
    {
     "name": "stdout",
     "output_type": "stream",
     "text": [
      "\n"
     ]
    }
   ],
   "source": [
    "dc = save_w2v_base(qa_corpus, model)"
   ]
  },
  {
   "cell_type": "code",
   "execution_count": 17,
   "metadata": {},
   "outputs": [],
   "source": [
    "from gensim import matutils\n",
    "\n",
    "def similarity(v1, v2):\n",
    "    v1_norm = matutils.unitvec(np.array(v1))\n",
    "    v2_norm = matutils.unitvec(np.array(v2))\n",
    "    return np.dot(v1_norm, v2_norm)"
   ]
  },
  {
   "cell_type": "code",
   "execution_count": 15,
   "metadata": {},
   "outputs": [],
   "source": [
    "def search_w2v(query, model_vectors, doc_text, model):\n",
    "    \"\"\"\n",
    "    :doc_text: questions?\n",
    "    :query: all answers\n",
    "    \"\"\"\n",
    "    vecs = []\n",
    "    for sentence in splitter(query, 1):\n",
    "        vec = get_w2v_vectors(preprocessing(sentence, del_stopwords=False), model)\n",
    "        vecs.append(vec)\n",
    "    query_vector = (np.array(vecs).sum(axis=0)/len(vecs)).tolist()\n",
    "    \n",
    "    result = []\n",
    "    i = 0\n",
    "    for vec in model_vectors:\n",
    "        similar = similarity(query_vector, vec)\n",
    "        result.append((doc_text[i], similar))\n",
    "        i += 1\n",
    "    res = pd.DataFrame(result, columns=['answer','similarity'])\n",
    "    return res.sort_values('similarity', ascending=False)  # sort by similarity"
   ]
  },
  {
   "cell_type": "code",
   "execution_count": 16,
   "metadata": {},
   "outputs": [],
   "source": [
    "def accuracy_w2v(all_questions, model_vec, all_answers, model):\n",
    "    correct = 0\n",
    "    for i, q in tqdm(enumerate(all_questions)):\n",
    "        res = list(search_w2v(q, model_vec, all_answers, model)[:5].answer)\n",
    "        if all_answers[i] in res:\n",
    "            correct += 1\n",
    "    return correct / len(all_questions)"
   ]
  },
  {
   "cell_type": "code",
   "execution_count": 17,
   "metadata": {},
   "outputs": [
    {
     "data": {
      "application/vnd.jupyter.widget-view+json": {
       "model_id": "92ede09a71ab47c1834e4d62a84d8561",
       "version_major": 2,
       "version_minor": 0
      },
      "text/plain": [
       "HBox(children=(IntProgress(value=1, bar_style='info', max=1), HTML(value='')))"
      ]
     },
     "metadata": {},
     "output_type": "display_data"
    },
    {
     "name": "stdout",
     "output_type": "stream",
     "text": [
      "\n",
      "0.16979768786127167\n"
     ]
    }
   ],
   "source": [
    "w2v_accuracy = accuracy_w2v(dc['question'], dc['answer_vec'], dc['answer'], model)\n",
    "print(w2v_accuracy)"
   ]
  },
  {
   "cell_type": "code",
   "execution_count": 6,
   "metadata": {},
   "outputs": [],
   "source": [
    "# kernel постоянно умирает. Буду записывать результаты, чтобы в конце красиво вывести\n",
    "w2v_accuracy = 0.16979768786127167"
   ]
  },
  {
   "cell_type": "markdown",
   "metadata": {},
   "source": [
    "То же самое, но удаляя стоп-слова:"
   ]
  },
  {
   "cell_type": "code",
   "execution_count": 18,
   "metadata": {},
   "outputs": [],
   "source": [
    "# индексирует ответы\n",
    "def save_w2v_base2(qa_corpus, model):\n",
    "    \"\"\"Индексирует всю базу для поиска через word2vec\"\"\"\n",
    "    col_names =  ['answer_vec', 'question', 'answer']\n",
    "    dc  = pd.DataFrame(columns = col_names)\n",
    "    for pair in tqdm(qa_corpus):\n",
    "        question, answer = pair[0], pair[1]\n",
    "        vecs = []\n",
    "        for sentence in splitter(answer, 1):\n",
    "            vec = get_w2v_vectors(preprocessing(sentence), model)\n",
    "            vecs.append(vec)\n",
    "        vec = (np.array(vecs).sum(axis=0)/len(vecs)).tolist()\n",
    "        dc.loc[len(dc)] = [vec, question, answer]\n",
    "    return dc"
   ]
  },
  {
   "cell_type": "code",
   "execution_count": 19,
   "metadata": {},
   "outputs": [
    {
     "data": {
      "application/vnd.jupyter.widget-view+json": {
       "model_id": "a1951182a26142d4a4fdd15844c79d3e",
       "version_major": 2,
       "version_minor": 0
      },
      "text/plain": [
       "HBox(children=(IntProgress(value=0, max=1384), HTML(value='')))"
      ]
     },
     "metadata": {},
     "output_type": "display_data"
    },
    {
     "name": "stdout",
     "output_type": "stream",
     "text": [
      "\n"
     ]
    }
   ],
   "source": [
    "dc_sw = save_w2v_base2(qa_corpus, model)"
   ]
  },
  {
   "cell_type": "code",
   "execution_count": 21,
   "metadata": {},
   "outputs": [],
   "source": [
    "def search_w2v(query, model_vectors, doc_text, model):\n",
    "    \"\"\"\n",
    "    :doc_text: questions?\n",
    "    :query: all answers\n",
    "    \"\"\"\n",
    "    vecs = []\n",
    "    for sentence in splitter(query, 1):\n",
    "        vec = get_w2v_vectors(preprocessing(sentence), model)\n",
    "        vecs.append(vec)\n",
    "    query_vector = (np.array(vecs).sum(axis=0)/len(vecs)).tolist()\n",
    "    \n",
    "    result = []\n",
    "    i = 0\n",
    "    for vec in model_vectors:\n",
    "        similar = similarity(query_vector, vec)\n",
    "        result.append((doc_text[i], similar))\n",
    "        i += 1\n",
    "    res = pd.DataFrame(result, columns=['answer','similarity'])\n",
    "    return res.sort_values('similarity', ascending=False)  # sort by similarity"
   ]
  },
  {
   "cell_type": "code",
   "execution_count": 22,
   "metadata": {},
   "outputs": [
    {
     "data": {
      "application/vnd.jupyter.widget-view+json": {
       "model_id": "3575bf4609464b0db29112561302e39e",
       "version_major": 2,
       "version_minor": 0
      },
      "text/plain": [
       "HBox(children=(IntProgress(value=1, bar_style='info', max=1), HTML(value='')))"
      ]
     },
     "metadata": {},
     "output_type": "display_data"
    },
    {
     "name": "stdout",
     "output_type": "stream",
     "text": [
      "\n",
      "0.1936416184971098\n"
     ]
    }
   ],
   "source": [
    "w2v_accuracy_del_sw = accuracy_w2v(dc['question'], dc['answer_vec'], dc['answer'], model)\n",
    "print(w2v_accuracy_del_sw)"
   ]
  },
  {
   "cell_type": "code",
   "execution_count": 7,
   "metadata": {},
   "outputs": [],
   "source": [
    "w2v_accuracy_del_sw = 0.1936416184971098"
   ]
  },
  {
   "cell_type": "markdown",
   "metadata": {},
   "source": [
    "Можно разбить выборку и сравнивать вопросы с вопросами, а не ответы с вопросами. Например, 30% всего корпуса будут вопросы как бы от пользователя, а база, по которой ищем будет состоять из 70% корпуса. И тогда мы будем сравнивать вопросы пользователей с вопросами из базы. Но тогда мы не сможем посчитать accuracy, потому что правильный ответы будут как бы неизвестны."
   ]
  },
  {
   "cell_type": "markdown",
   "metadata": {},
   "source": [
    "Еще можно обучить свою модель word2vec, например, на части ответах из нашего корпуса."
   ]
  },
  {
   "cell_type": "code",
   "execution_count": 23,
   "metadata": {},
   "outputs": [
    {
     "data": {
      "application/vnd.jupyter.widget-view+json": {
       "model_id": "6d910d8ffd2348d6b16791d9ffcd1ca5",
       "version_major": 2,
       "version_minor": 0
      },
      "text/plain": [
       "HBox(children=(IntProgress(value=0, max=1384), HTML(value='')))"
      ]
     },
     "metadata": {},
     "output_type": "display_data"
    },
    {
     "name": "stdout",
     "output_type": "stream",
     "text": [
      "\n"
     ]
    },
    {
     "data": {
      "text/plain": [
       "(3189765, 3672720)"
      ]
     },
     "execution_count": 23,
     "metadata": {},
     "output_type": "execute_result"
    }
   ],
   "source": [
    "documents = []\n",
    "for el in tqdm(dc['answer']):\n",
    "    q = preprocessing(el)\n",
    "    documents.append(q)\n",
    "    \n",
    "my_model = Word2Vec(\n",
    "    documents,\n",
    "    size=300,\n",
    "    window=10,\n",
    "    min_count=2,\n",
    "    workers=4)\n",
    "my_model.train(documents, total_examples=len(documents), epochs=30)    "
   ]
  },
  {
   "cell_type": "code",
   "execution_count": 24,
   "metadata": {},
   "outputs": [
    {
     "data": {
      "application/vnd.jupyter.widget-view+json": {
       "model_id": "781b7b7580cd4414a7f08b78d7c587b9",
       "version_major": 2,
       "version_minor": 0
      },
      "text/plain": [
       "HBox(children=(IntProgress(value=0, max=1384), HTML(value='')))"
      ]
     },
     "metadata": {},
     "output_type": "display_data"
    },
    {
     "name": "stderr",
     "output_type": "stream",
     "text": [
      "c:\\py_37_env\\lib\\site-packages\\ipykernel_launcher.py:18: RuntimeWarning: invalid value encountered in true_divide\n"
     ]
    },
    {
     "name": "stdout",
     "output_type": "stream",
     "text": [
      "\n"
     ]
    }
   ],
   "source": [
    "dc2 = save_w2v_base(qa_corpus, my_model)"
   ]
  },
  {
   "cell_type": "code",
   "execution_count": 23,
   "metadata": {},
   "outputs": [
    {
     "data": {
      "text/html": [
       "<div>\n",
       "<style scoped>\n",
       "    .dataframe tbody tr th:only-of-type {\n",
       "        vertical-align: middle;\n",
       "    }\n",
       "\n",
       "    .dataframe tbody tr th {\n",
       "        vertical-align: top;\n",
       "    }\n",
       "\n",
       "    .dataframe thead th {\n",
       "        text-align: right;\n",
       "    }\n",
       "</style>\n",
       "<table border=\"1\" class=\"dataframe\">\n",
       "  <thead>\n",
       "    <tr style=\"text-align: right;\">\n",
       "      <th></th>\n",
       "      <th>answer_vec</th>\n",
       "      <th>question</th>\n",
       "      <th>answer</th>\n",
       "    </tr>\n",
       "  </thead>\n",
       "  <tbody>\n",
       "    <tr>\n",
       "      <th>0</th>\n",
       "      <td>[0.01078099909457652, 0.19173462382134268, 0.1...</td>\n",
       "      <td>\\nДобрый день.Мой сын гражданин Украины (ДНР),...</td>\n",
       "      <td>Добрый вечер!Из Вашего вопроса вообще ничего н...</td>\n",
       "    </tr>\n",
       "    <tr>\n",
       "      <th>1</th>\n",
       "      <td>[-0.4380003193808669, -0.03778596291620586, -0...</td>\n",
       "      <td>\\nЗдравствуйте, я продаю комнату в 4х комнатно...</td>\n",
       "      <td>Оксана, Вы вправе не платить налог, если являе...</td>\n",
       "    </tr>\n",
       "    <tr>\n",
       "      <th>2</th>\n",
       "      <td>[0.2094762644586945, 0.08527215330722852, -0.1...</td>\n",
       "      <td>\\nМожно ли подать приложения к жалобе по делу ...</td>\n",
       "      <td>Здравствуйте, Илья! Можно ли подать приложения...</td>\n",
       "    </tr>\n",
       "    <tr>\n",
       "      <th>3</th>\n",
       "      <td>[0.04081736465818003, -0.07478159244515394, 0....</td>\n",
       "      <td>\\nДобрый вечер.\\r\\nПроизошла мало приятная сит...</td>\n",
       "      <td>Представьте органу предварительного расследова...</td>\n",
       "    </tr>\n",
       "    <tr>\n",
       "      <th>4</th>\n",
       "      <td>[0.831405877044388, -0.3886620435815037, 0.304...</td>\n",
       "      <td>\\nЯ брала займ 5000 т.р произошли трудности в ...</td>\n",
       "      <td>Прямо в полицию и обращайтесь, в заявлении про...</td>\n",
       "    </tr>\n",
       "  </tbody>\n",
       "</table>\n",
       "</div>"
      ],
      "text/plain": [
       "                                          answer_vec  \\\n",
       "0  [0.01078099909457652, 0.19173462382134268, 0.1...   \n",
       "1  [-0.4380003193808669, -0.03778596291620586, -0...   \n",
       "2  [0.2094762644586945, 0.08527215330722852, -0.1...   \n",
       "3  [0.04081736465818003, -0.07478159244515394, 0....   \n",
       "4  [0.831405877044388, -0.3886620435815037, 0.304...   \n",
       "\n",
       "                                            question  \\\n",
       "0  \\nДобрый день.Мой сын гражданин Украины (ДНР),...   \n",
       "1  \\nЗдравствуйте, я продаю комнату в 4х комнатно...   \n",
       "2  \\nМожно ли подать приложения к жалобе по делу ...   \n",
       "3  \\nДобрый вечер.\\r\\nПроизошла мало приятная сит...   \n",
       "4  \\nЯ брала займ 5000 т.р произошли трудности в ...   \n",
       "\n",
       "                                              answer  \n",
       "0  Добрый вечер!Из Вашего вопроса вообще ничего н...  \n",
       "1  Оксана, Вы вправе не платить налог, если являе...  \n",
       "2  Здравствуйте, Илья! Можно ли подать приложения...  \n",
       "3  Представьте органу предварительного расследова...  \n",
       "4  Прямо в полицию и обращайтесь, в заявлении про...  "
      ]
     },
     "execution_count": 23,
     "metadata": {},
     "output_type": "execute_result"
    }
   ],
   "source": [
    "dc2.head()"
   ]
  },
  {
   "cell_type": "code",
   "execution_count": 25,
   "metadata": {},
   "outputs": [
    {
     "data": {
      "application/vnd.jupyter.widget-view+json": {
       "model_id": "8da65bc0d3c24bac9a124cb662db93f2",
       "version_major": 2,
       "version_minor": 0
      },
      "text/plain": [
       "HBox(children=(IntProgress(value=1, bar_style='info', max=1), HTML(value='')))"
      ]
     },
     "metadata": {},
     "output_type": "display_data"
    },
    {
     "name": "stderr",
     "output_type": "stream",
     "text": [
      "c:\\py_37_env\\lib\\site-packages\\ipykernel_launcher.py:18: RuntimeWarning: invalid value encountered in true_divide\n"
     ]
    },
    {
     "name": "stdout",
     "output_type": "stream",
     "text": [
      "\n",
      "0.18858381502890173\n"
     ]
    }
   ],
   "source": [
    "my_accuracy = accuracy_w2v(dc2['question'], dc2['answer_vec'], dc2['answer'], my_model)\n",
    "print(my_accuracy)"
   ]
  },
  {
   "cell_type": "code",
   "execution_count": 8,
   "metadata": {},
   "outputs": [],
   "source": [
    "my_accuracy = 0.18858381502890173"
   ]
  },
  {
   "cell_type": "markdown",
   "metadata": {},
   "source": [
    "## Doc2vec"
   ]
  },
  {
   "cell_type": "code",
   "execution_count": 29,
   "metadata": {},
   "outputs": [],
   "source": [
    "from gensim.models.doc2vec import Doc2Vec, TaggedDocument\n",
    "from gensim.test.utils import get_tmpfile"
   ]
  },
  {
   "cell_type": "code",
   "execution_count": 30,
   "metadata": {},
   "outputs": [],
   "source": [
    "def train_doc2vec(data):\n",
    "    tagged_data = [TaggedDocument(words=word_tokenize(_d.lower()), tags=[str(i)]) for i, _d in enumerate(data)]\n",
    "    model = Doc2Vec(vector_size=100, min_count=5, alpha=0.025, min_alpha=0.025, epochs=100, workers=4, dm=1)\n",
    "    model.build_vocab(tagged_data)\n",
    "    model.train(tagged_data, total_examples=model.corpus_count, epochs=model.epochs)\n",
    "    return model"
   ]
  },
  {
   "cell_type": "code",
   "execution_count": 31,
   "metadata": {},
   "outputs": [],
   "source": [
    "file_name = get_tmpfile(\"d2v_jura\")\n",
    "model_d2v = train_doc2vec(dc['answer'])\n",
    "model_d2v.save(file_name)"
   ]
  },
  {
   "cell_type": "code",
   "execution_count": 32,
   "metadata": {},
   "outputs": [],
   "source": [
    "model_d2v = Doc2Vec.load(file_name)"
   ]
  },
  {
   "cell_type": "code",
   "execution_count": 33,
   "metadata": {},
   "outputs": [],
   "source": [
    "def get_d2v_vectors(lemmas_arr, model_d2v):\n",
    "    \"\"\"Получает вектор документа\"\"\"\n",
    "    # model.infer_vector([\"закон\", \"договор\"])\n",
    "    model_d2v.random.seed(100)  # ensure same results\n",
    "    if len(lemmas_arr) == None:\n",
    "        doc_vec = None\n",
    "    else:\n",
    "        doc_vec = model_d2v.infer_vector(lemmas_arr)\n",
    "    return doc_vec"
   ]
  },
  {
   "cell_type": "code",
   "execution_count": 34,
   "metadata": {},
   "outputs": [],
   "source": [
    "def save_d2v_base(qa_corpus, model_d2v):\n",
    "    \"\"\"Индексирует всю базу для поиска через doc2vec\"\"\"\n",
    "    # индексируем ответы\n",
    "    col_names =  ['answer_vec', 'question', 'answer']\n",
    "    d  = pd.DataFrame(columns = col_names)\n",
    "    for pair in tqdm(qa_corpus):\n",
    "        question, answer = pair[0], pair[1]\n",
    "        vecs = []\n",
    "        for sentence in splitter(answer, 1):\n",
    "            vec = get_d2v_vectors(preprocessing(sentence, del_stopwords=False), model_d2v)\n",
    "            vecs.append(vec)\n",
    "        vec = (np.array(vecs).sum(axis=0)/len(vecs)).tolist()\n",
    "        d.loc[len(d)] = [vec, question, answer]\n",
    "    return d"
   ]
  },
  {
   "cell_type": "code",
   "execution_count": 35,
   "metadata": {},
   "outputs": [
    {
     "data": {
      "application/vnd.jupyter.widget-view+json": {
       "model_id": "90111922ab8a462a96d448955fa56229",
       "version_major": 2,
       "version_minor": 0
      },
      "text/plain": [
       "HBox(children=(IntProgress(value=0, max=1384), HTML(value='')))"
      ]
     },
     "metadata": {},
     "output_type": "display_data"
    },
    {
     "name": "stdout",
     "output_type": "stream",
     "text": [
      "\n"
     ]
    }
   ],
   "source": [
    "dc3 = save_d2v_base(qa_corpus, model_d2v)"
   ]
  },
  {
   "cell_type": "code",
   "execution_count": 36,
   "metadata": {},
   "outputs": [
    {
     "data": {
      "text/html": [
       "<div>\n",
       "<style scoped>\n",
       "    .dataframe tbody tr th:only-of-type {\n",
       "        vertical-align: middle;\n",
       "    }\n",
       "\n",
       "    .dataframe tbody tr th {\n",
       "        vertical-align: top;\n",
       "    }\n",
       "\n",
       "    .dataframe thead th {\n",
       "        text-align: right;\n",
       "    }\n",
       "</style>\n",
       "<table border=\"1\" class=\"dataframe\">\n",
       "  <thead>\n",
       "    <tr style=\"text-align: right;\">\n",
       "      <th></th>\n",
       "      <th>answer_vec</th>\n",
       "      <th>question</th>\n",
       "      <th>answer</th>\n",
       "    </tr>\n",
       "  </thead>\n",
       "  <tbody>\n",
       "    <tr>\n",
       "      <th>0</th>\n",
       "      <td>[-2.062420606613159, -0.8957734107971191, -0.4...</td>\n",
       "      <td>\\nДобрый день.Мой сын гражданин Украины (ДНР),...</td>\n",
       "      <td>Добрый вечер!Из Вашего вопроса вообще ничего н...</td>\n",
       "    </tr>\n",
       "    <tr>\n",
       "      <th>1</th>\n",
       "      <td>[1.2384271621704102, -0.2944904565811157, 1.48...</td>\n",
       "      <td>\\nЗдравствуйте, я продаю комнату в 4х комнатно...</td>\n",
       "      <td>Оксана, Вы вправе не платить налог, если являе...</td>\n",
       "    </tr>\n",
       "    <tr>\n",
       "      <th>2</th>\n",
       "      <td>[0.4222171902656555, -1.3481476306915283, 0.41...</td>\n",
       "      <td>\\nМожно ли подать приложения к жалобе по делу ...</td>\n",
       "      <td>Здравствуйте, Илья! Можно ли подать приложения...</td>\n",
       "    </tr>\n",
       "    <tr>\n",
       "      <th>3</th>\n",
       "      <td>[-0.7394524812698364, -4.3170013427734375, 1.2...</td>\n",
       "      <td>\\nДобрый вечер.\\r\\nПроизошла мало приятная сит...</td>\n",
       "      <td>Представьте органу предварительного расследова...</td>\n",
       "    </tr>\n",
       "    <tr>\n",
       "      <th>4</th>\n",
       "      <td>[-1.7640345096588135, -0.9663607478141785, -0....</td>\n",
       "      <td>\\nЯ брала займ 5000 т.р произошли трудности в ...</td>\n",
       "      <td>Прямо в полицию и обращайтесь, в заявлении про...</td>\n",
       "    </tr>\n",
       "  </tbody>\n",
       "</table>\n",
       "</div>"
      ],
      "text/plain": [
       "                                          answer_vec  \\\n",
       "0  [-2.062420606613159, -0.8957734107971191, -0.4...   \n",
       "1  [1.2384271621704102, -0.2944904565811157, 1.48...   \n",
       "2  [0.4222171902656555, -1.3481476306915283, 0.41...   \n",
       "3  [-0.7394524812698364, -4.3170013427734375, 1.2...   \n",
       "4  [-1.7640345096588135, -0.9663607478141785, -0....   \n",
       "\n",
       "                                            question  \\\n",
       "0  \\nДобрый день.Мой сын гражданин Украины (ДНР),...   \n",
       "1  \\nЗдравствуйте, я продаю комнату в 4х комнатно...   \n",
       "2  \\nМожно ли подать приложения к жалобе по делу ...   \n",
       "3  \\nДобрый вечер.\\r\\nПроизошла мало приятная сит...   \n",
       "4  \\nЯ брала займ 5000 т.р произошли трудности в ...   \n",
       "\n",
       "                                              answer  \n",
       "0  Добрый вечер!Из Вашего вопроса вообще ничего н...  \n",
       "1  Оксана, Вы вправе не платить налог, если являе...  \n",
       "2  Здравствуйте, Илья! Можно ли подать приложения...  \n",
       "3  Представьте органу предварительного расследова...  \n",
       "4  Прямо в полицию и обращайтесь, в заявлении про...  "
      ]
     },
     "execution_count": 36,
     "metadata": {},
     "output_type": "execute_result"
    }
   ],
   "source": [
    "dc3.head()"
   ]
  },
  {
   "cell_type": "code",
   "execution_count": 37,
   "metadata": {},
   "outputs": [],
   "source": [
    "def search_d2v(query, model_vectors, doc_text, model_d2v):\n",
    "    # model_vectors = vectors from the base of answers saved into dc3\n",
    "    vecs = []\n",
    "    for sentence in splitter(query, 1):\n",
    "        vec = get_d2v_vectors(preprocessing(sentence, del_stopwords=False), model_d2v)\n",
    "        vecs.append(vec)\n",
    "    query_vector = (np.array(vecs).sum(axis=0)/len(vecs)).tolist()\n",
    "    \n",
    "    result = []\n",
    "    i = 0\n",
    "    for vec in model_vectors:\n",
    "        similar = similarity(query_vector, vec)\n",
    "        result.append((doc_text[i], similar))\n",
    "        i += 1\n",
    "    res = pd.DataFrame(result, columns=['answer','similarity'])\n",
    "    return res.sort_values('similarity', ascending=False)  # sort by similarity"
   ]
  },
  {
   "cell_type": "code",
   "execution_count": 38,
   "metadata": {},
   "outputs": [],
   "source": [
    "l = dc3['answer'][1]"
   ]
  },
  {
   "cell_type": "code",
   "execution_count": 40,
   "metadata": {},
   "outputs": [],
   "source": [
    "def accuracy_d2v(all_questions, model_vec, all_answers, model_d2v):\n",
    "    correct = 0\n",
    "    for i, q in tqdm(enumerate(all_questions)):\n",
    "        res = list(search_d2v(q, model_vec, all_answers, model_d2v)[:5].answer)\n",
    "        if all_answers[i] in res:\n",
    "            correct += 1\n",
    "    return correct / len(all_questions)"
   ]
  },
  {
   "cell_type": "code",
   "execution_count": 41,
   "metadata": {},
   "outputs": [
    {
     "data": {
      "application/vnd.jupyter.widget-view+json": {
       "model_id": "0c706c57a1684735880999bf48fabaa1",
       "version_major": 2,
       "version_minor": 0
      },
      "text/plain": [
       "HBox(children=(IntProgress(value=1, bar_style='info', max=1), HTML(value='')))"
      ]
     },
     "metadata": {},
     "output_type": "display_data"
    },
    {
     "name": "stdout",
     "output_type": "stream",
     "text": [
      "\n",
      "0.19436416184971098\n"
     ]
    }
   ],
   "source": [
    "correct = accuracy_d2v(dc3['question'], dc3['answer_vec'], dc3['answer'], model_d2v)\n",
    "print(correct)"
   ]
  },
  {
   "cell_type": "code",
   "execution_count": 42,
   "metadata": {},
   "outputs": [],
   "source": [
    "d2v_accuracy = correct\n",
    "d2v_accuracy = 0.19436416184971098"
   ]
  },
  {
   "cell_type": "markdown",
   "metadata": {},
   "source": [
    "Тот же самый doc2vec, но без стоп слов:"
   ]
  },
  {
   "cell_type": "code",
   "execution_count": 44,
   "metadata": {},
   "outputs": [],
   "source": [
    "def save_d2v_base2(qa_corpus, model_d2v):\n",
    "    \"\"\"Индексирует всю базу для поиска через doc2vec\"\"\"\n",
    "    # индексируем ответы\n",
    "    col_names =  ['answer_vec', 'question', 'answer']\n",
    "    d  = pd.DataFrame(columns = col_names)\n",
    "    for pair in tqdm(qa_corpus):\n",
    "        question, answer = pair[0], pair[1]\n",
    "        vecs = []\n",
    "        for sentence in splitter(answer, 1):\n",
    "            vec = get_d2v_vectors(preprocessing(sentence), model_d2v)\n",
    "            vecs.append(vec)\n",
    "        vec = (np.array(vecs).sum(axis=0)/len(vecs)).tolist()\n",
    "        d.loc[len(d)] = [vec, question, answer]\n",
    "    return d"
   ]
  },
  {
   "cell_type": "code",
   "execution_count": 45,
   "metadata": {},
   "outputs": [
    {
     "data": {
      "application/vnd.jupyter.widget-view+json": {
       "model_id": "cf533ac84a0344da9fcf9ea5440348d4",
       "version_major": 2,
       "version_minor": 0
      },
      "text/plain": [
       "HBox(children=(IntProgress(value=0, max=1384), HTML(value='')))"
      ]
     },
     "metadata": {},
     "output_type": "display_data"
    },
    {
     "name": "stdout",
     "output_type": "stream",
     "text": [
      "\n"
     ]
    }
   ],
   "source": [
    "dc3 = save_d2v_base2(qa_corpus, model_d2v)"
   ]
  },
  {
   "cell_type": "code",
   "execution_count": 48,
   "metadata": {},
   "outputs": [],
   "source": [
    "def search_d2v(query, model_vectors, doc_text, model_d2v):\n",
    "    # model_vectors = vectors from the base of answers saved into dc3\n",
    "    vecs = []\n",
    "    for sentence in splitter(query, 1):\n",
    "        vec = get_d2v_vectors(preprocessing(sentence), model_d2v)\n",
    "        vecs.append(vec)\n",
    "    query_vector = (np.array(vecs).sum(axis=0)/len(vecs)).tolist()\n",
    "    \n",
    "    result = []\n",
    "    i = 0\n",
    "    for vec in model_vectors:\n",
    "        similar = similarity(query_vector, vec)\n",
    "        result.append((doc_text[i], similar))\n",
    "        i += 1\n",
    "    res = pd.DataFrame(result, columns=['answer','similarity'])\n",
    "    return res.sort_values('similarity', ascending=False)  # sort by similarity"
   ]
  },
  {
   "cell_type": "code",
   "execution_count": 49,
   "metadata": {},
   "outputs": [
    {
     "data": {
      "application/vnd.jupyter.widget-view+json": {
       "model_id": "7ad46f19bde348a1becaa994128225af",
       "version_major": 2,
       "version_minor": 0
      },
      "text/plain": [
       "HBox(children=(IntProgress(value=1, bar_style='info', max=1), HTML(value='')))"
      ]
     },
     "metadata": {},
     "output_type": "display_data"
    },
    {
     "name": "stdout",
     "output_type": "stream",
     "text": [
      "\n",
      "0.20881502890173412\n"
     ]
    }
   ],
   "source": [
    "correct = accuracy_d2v(dc3['question'], dc3['answer_vec'], dc3['answer'], model_d2v)\n",
    "print(correct)"
   ]
  },
  {
   "cell_type": "code",
   "execution_count": 50,
   "metadata": {},
   "outputs": [],
   "source": [
    "d2v_accuracy_no_sw = correct\n",
    "d2v_accuracy_no_sw = 0.20881502890173412"
   ]
  },
  {
   "cell_type": "markdown",
   "metadata": {},
   "source": [
    "## Inverted Index"
   ]
  },
  {
   "cell_type": "code",
   "execution_count": 11,
   "metadata": {},
   "outputs": [],
   "source": [
    "from collections import defaultdict\n",
    "def inverted_index(texts) -> dict:\n",
    "    \"\"\"\n",
    "    Create inverted index by input doc collection\n",
    "    :return: inverted index\n",
    "    \"\"\"\n",
    "    index = defaultdict(list)\n",
    "    i = 0\n",
    "    for text in texts:\n",
    "        for word in text.split(' '):\n",
    "            if i not in index[word]:\n",
    "                index[word].append(i)\n",
    "        i += 1\n",
    "    return index"
   ]
  },
  {
   "cell_type": "code",
   "execution_count": 12,
   "metadata": {},
   "outputs": [],
   "source": [
    "from math import log\n",
    "\n",
    "def score_BM25(qf, dl, N, n, avgdl, k1=2.0, b=0.75) -> float:\n",
    "    \"\"\"\n",
    "    Compute similarity score between search query and documents from collection\n",
    "    :return: score\n",
    "    \"\"\"\n",
    "    score = log((N - n + 0.5)/(n + 0.5)) * (k1 + 1) * qf / (qf + k1 * (1 - b + b * (dl / avgdl)))\n",
    "    return score"
   ]
  },
  {
   "cell_type": "code",
   "execution_count": 18,
   "metadata": {},
   "outputs": [],
   "source": [
    "av = []\n",
    "for element in dc['answer']:\n",
    "    av.append(len(element))\n",
    "avgdl = round(sum(av) / len(av))\n",
    "N = len(dc['answer'])"
   ]
  },
  {
   "cell_type": "code",
   "execution_count": 19,
   "metadata": {},
   "outputs": [],
   "source": [
    "inv_ind = inverted_index(dc['answer'])"
   ]
  },
  {
   "cell_type": "code",
   "execution_count": 20,
   "metadata": {},
   "outputs": [
    {
     "data": {
      "text/plain": [
       "[24, 477, 615, 1018, 1135]"
      ]
     },
     "execution_count": 20,
     "metadata": {},
     "output_type": "execute_result"
    }
   ],
   "source": [
    "inv_ind['проблема']"
   ]
  },
  {
   "cell_type": "code",
   "execution_count": 21,
   "metadata": {},
   "outputs": [],
   "source": [
    "def compute_sim(query, inv_ind, document, avgdl, N) -> float:\n",
    "    \"\"\"\n",
    "    Compute similarity score between search query and documents from collection\n",
    "    :return: score\n",
    "    \"\"\"\n",
    "    if query in inv_ind.keys():\n",
    "        n = len(inv_ind[query])\n",
    "    else:\n",
    "        n = 0\n",
    "    qf = document.count(query)\n",
    "    dl = len(document)\n",
    "    scores = score_BM25(qf, dl, N, n, avgdl)\n",
    "    return scores\n",
    "\n",
    "\n",
    "def get_search_result(query, inv_ind, doc_text) -> list:\n",
    "    \"\"\"\n",
    "    Compute sim score between search query and all documents in collection\n",
    "    Collect as pair (doc_id, score)\n",
    "    :param query: input text\n",
    "    :return: list of lists with (doc_id, score)\n",
    "    \"\"\"\n",
    "    lemmas_query = preprocessing(query, del_stopwords=False)\n",
    "    result = []\n",
    "    i = 0\n",
    "    for document in doc_text:\n",
    "        similar = 0\n",
    "        for el in lemmas_query:\n",
    "            similar += compute_sim(el, inv_ind, document, avgdl, N)\n",
    "        result.append((doc_text[i], similar))\n",
    "        i += 1\n",
    "        \n",
    "    res = pd.DataFrame(result, columns=['doc_text','similarity'])\n",
    "    return res.sort_values('similarity', ascending=False)[:5]"
   ]
  },
  {
   "cell_type": "code",
   "execution_count": 22,
   "metadata": {},
   "outputs": [
    {
     "data": {
      "text/plain": [
       "'Здравствуйте, Илья!\\xa0Можно ли подать приложения к жалобе по делу об административном правонарушении (штраф за парковку) (фотографии, копии-сканы документов и т.д.) для суда первой инстанции в электронном виде для уменьшения количества бумаги, например разместив их все на флешке или на DVD-диске?Да, это возможно в соответствии со ст. 35 ГПК РФ.ГПК РФ Статья 35. Права и обязанности лиц, участвующих в деле \\xa0 ... 1.1. Лица, участвующие в деле, вправе представлять в суд документы как на бумажном носителе, так и в электронном виде, в том числе в форме электронного документа, подписанного электронной подписью в порядке, установленном\\xa0законодательством\\xa0Российской Федерации, заполнять форму, размещенную на официальном сайте суда в информационно-телекоммуникационной сети «Интернет». 1.2. Лица, участвующие в деле, вправе представлять в суд иные документы в электронном виде, в том числе в форме электронных документов, выполненных указанными лицами либо иными лицами, органами, организациями. Такие документы выполняются в форме, установленной для этих документов законодательством Российской Федерации, или в свободной форме, если законодательством Российской Федерации форма для таких документов не установлена. ...Также Вы можете подать обращение и через интернет (если зарегистрированы на гос.услугах) через ГАС «Правосудие».\\xa0'"
      ]
     },
     "execution_count": 22,
     "metadata": {},
     "output_type": "execute_result"
    }
   ],
   "source": [
    "dc['answer'][2]"
   ]
  },
  {
   "cell_type": "code",
   "execution_count": 23,
   "metadata": {},
   "outputs": [
    {
     "name": "stdout",
     "output_type": "stream",
     "text": [
      "True\n"
     ]
    }
   ],
   "source": [
    "if dc['answer'][2] in list(get_search_result(dc['question'][2], inv_ind, dc['answer']).doc_text):\n",
    "    print(True)"
   ]
  },
  {
   "cell_type": "code",
   "execution_count": 24,
   "metadata": {},
   "outputs": [
    {
     "data": {
      "application/vnd.jupyter.widget-view+json": {
       "model_id": "a2835d4de541459aaa4116e1b6cd4db9",
       "version_major": 2,
       "version_minor": 0
      },
      "text/plain": [
       "HBox(children=(IntProgress(value=1, bar_style='info', max=1), HTML(value='')))"
      ]
     },
     "metadata": {},
     "output_type": "display_data"
    },
    {
     "name": "stdout",
     "output_type": "stream",
     "text": [
      "0\n",
      "1\n",
      "2\n",
      "True\n",
      "\n"
     ]
    }
   ],
   "source": [
    "correct = 0\n",
    "for i, q in tqdm(enumerate(dc['question'][:3])):\n",
    "    print(i)\n",
    "    res = list(get_search_result(q, inv_ind, dc['answer']).doc_text)\n",
    "    if dc['answer'][i] in res:\n",
    "        print(True)\n",
    "        correct += 1"
   ]
  },
  {
   "cell_type": "code",
   "execution_count": 26,
   "metadata": {},
   "outputs": [],
   "source": [
    "def accuracy_inv_ind(all_questions, inv_ind, all_answers):\n",
    "    correct = 0\n",
    "    for i, q in tqdm(enumerate(all_questions)):\n",
    "        res = list(get_search_result(q, inv_ind, all_answers).doc_text)\n",
    "        if all_answers[i] in res:\n",
    "            correct += 1\n",
    "    return correct / len(all_questions)"
   ]
  },
  {
   "cell_type": "code",
   "execution_count": 27,
   "metadata": {},
   "outputs": [
    {
     "data": {
      "application/vnd.jupyter.widget-view+json": {
       "model_id": "1e47a6b0c9724d21a2c1df1c6e7575a6",
       "version_major": 2,
       "version_minor": 0
      },
      "text/plain": [
       "HBox(children=(IntProgress(value=1, bar_style='info', max=1), HTML(value='')))"
      ]
     },
     "metadata": {},
     "output_type": "display_data"
    },
    {
     "name": "stdout",
     "output_type": "stream",
     "text": [
      "\n"
     ]
    }
   ],
   "source": [
    "accuracy = accuracy_inv_ind(dc['question'], inv_ind, dc['answer'])"
   ]
  },
  {
   "cell_type": "code",
   "execution_count": 51,
   "metadata": {},
   "outputs": [
    {
     "name": "stdout",
     "output_type": "stream",
     "text": [
      "Inverted index method accuracy:  0.3171965317919075\n",
      "Doc2vec method accuracy:  0.19436416184971098\n",
      "Doc2vec method accuracy without stop-words:  0.20881502890173412\n",
      "Word2vec method accuracy:  0.16979768786127167\n",
      "Word2vec method accuracy without stop-words:  0.1936416184971098\n",
      "Word2vec model trained on answers from corpus accuracy:  0.18858381502890173\n"
     ]
    }
   ],
   "source": [
    "print('Inverted index method accuracy: ', accuracy)\n",
    "print('Doc2vec method accuracy: ', d2v_accuracy)\n",
    "print('Doc2vec method accuracy without stop-words: ', d2v_accuracy_no_sw)\n",
    "print('Word2vec method accuracy: ', w2v_accuracy)\n",
    "print('Word2vec method accuracy without stop-words: ', w2v_accuracy_del_sw)\n",
    "print('Word2vec model trained on answers from corpus accuracy: ', my_accuracy)"
   ]
  },
  {
   "cell_type": "markdown",
   "metadata": {},
   "source": [
    "Обратный индекс имеет самую высокую точность. Doc2vec без стоп-слов на втором месте."
   ]
  },
  {
   "cell_type": "markdown",
   "metadata": {},
   "source": [
    "## Блендинг методов поиска"
   ]
  },
  {
   "cell_type": "code",
   "execution_count": null,
   "metadata": {},
   "outputs": [],
   "source": []
  }
 ],
 "metadata": {
  "kernelspec": {
   "display_name": "Python 3",
   "language": "python",
   "name": "python3"
  },
  "language_info": {
   "codemirror_mode": {
    "name": "ipython",
    "version": 3
   },
   "file_extension": ".py",
   "mimetype": "text/x-python",
   "name": "python",
   "nbconvert_exporter": "python",
   "pygments_lexer": "ipython3",
   "version": "3.7.0"
  }
 },
 "nbformat": 4,
 "nbformat_minor": 2
}
