{
 "cells": [
  {
   "cell_type": "markdown",
   "metadata": {},
   "source": [
    "## ДЗ по поиску\n",
    "\n",
    "Привет! Вам надо реализивать поисковик на базе вопросов-ответов с сайта [pravoved.ru](https://pravoved.ru/questions-archive/).        \n",
    "Поиск должен работать на трех технологиях:       \n",
    "1. обратном индексе     \n",
    "2. word2vec         \n",
    "3. doc2vec      \n",
    "\n",
    "Вы должны понять, какой метод и при каких условиях эксперимента на этом корпусе работает лучше.          \n",
    "Для измерения качества поиска найдите точность (accuracy) выпадания правильного ответа на конкретный вопрос (в этой базе у каждого вопроса есть только один правильный ответ). Точность нужно измерить для всей базы.    \n",
    "При этом давайте считать, что выпал правильный ответ, если он попал в **топ-5** поисковой выдачи.\n",
    "\n",
    "> Сделайте ваш поиск максимально качественным, чтобы значение точности стремилось к 1.     \n",
    "Для этого можно поэкспериментировать со следующим:       \n",
    "- модель word2vec (можно брать любую из опен сорса или обучить свою)\n",
    "- способ получения вектора документа через word2vec: простое среднее арифметическое или взвешивать каждый вектор в соответствии с его tf-idf      \n",
    "- количество эпох у doc2vec (начинайте от 100)\n",
    "- предобработка документов для обучения doc2vec (удалять / не удалять стоп-слова)\n",
    "- блендинг методов поиска: соединить результаты обратного индекса и w2v, или (что проще) w2v и d2v\n",
    "\n",
    "На это задание отведем 10 дней. Дэдлайн сдачи до полуночи 12.10."
   ]
  },
  {
   "cell_type": "code",
   "execution_count": 1,
   "metadata": {},
   "outputs": [],
   "source": [
    "import pickle\n",
    "\n",
    "with open('qa_corpus.pkl', 'rb') as file:\n",
    "    qa_corpus = pickle.load(file)"
   ]
  },
  {
   "cell_type": "markdown",
   "metadata": {},
   "source": [
    "Всего в корпусе 1384 пары вопрос-ответ"
   ]
  },
  {
   "cell_type": "code",
   "execution_count": 21,
   "metadata": {},
   "outputs": [
    {
     "data": {
      "text/plain": [
       "list"
      ]
     },
     "execution_count": 21,
     "metadata": {},
     "output_type": "execute_result"
    }
   ],
   "source": [
    "type(qa_corpus)"
   ]
  },
  {
   "cell_type": "markdown",
   "metadata": {},
   "source": [
    "Первый элемент блока это вопрос, второй - ответ на него"
   ]
  },
  {
   "cell_type": "code",
   "execution_count": 7,
   "metadata": {},
   "outputs": [
    {
     "data": {
      "text/plain": [
       "'\\nЗдравствуйте, я продаю комнату в 4х комнатной квартире. С одним из соседей у меня долевка. Лицевые счета разные. Риелтор говорит что при продаже нужно будет оплачивать натариусу налог с дохода. 17400. Продала за 450000. Сама буду брать квартиру в ипотеку.\\n'"
      ]
     },
     "execution_count": 7,
     "metadata": {},
     "output_type": "execute_result"
    }
   ],
   "source": [
    "qa_corpus[1][0]"
   ]
  },
  {
   "cell_type": "markdown",
   "metadata": {},
   "source": [
    "## Word2vec"
   ]
  },
  {
   "cell_type": "markdown",
   "metadata": {},
   "source": [
    "#### Начнем с модели из опенсорса без pos-tagging"
   ]
  },
  {
   "cell_type": "code",
   "execution_count": 2,
   "metadata": {},
   "outputs": [],
   "source": [
    "import warnings\n",
    "warnings.filterwarnings(action='ignore', module='gensim')\n",
    "\n",
    "import gensim\n",
    "from gensim.models import Word2Vec, KeyedVectors"
   ]
  },
  {
   "cell_type": "code",
   "execution_count": 3,
   "metadata": {},
   "outputs": [],
   "source": [
    "from tqdm import tqdm_notebook as tqdm\n",
    "import re\n",
    "from judicial_splitter import splitter\n",
    "import pandas as pd"
   ]
  },
  {
   "cell_type": "code",
   "execution_count": 9,
   "metadata": {},
   "outputs": [],
   "source": [
    "model_path = 'araneum_none_fasttextcbow_300_5_2018/araneum_none_fasttextcbow_300_5_2018.model'\n",
    "model = Word2Vec.load(model_path)"
   ]
  },
  {
   "cell_type": "code",
   "execution_count": 4,
   "metadata": {},
   "outputs": [],
   "source": [
    "import pymorphy2\n",
    "morph = pymorphy2.MorphAnalyzer()\n",
    "import numpy as np\n",
    "from nltk.corpus import stopwords\n",
    "from nltk.tokenize import word_tokenize\n",
    "import string\n",
    "\n",
    "\n",
    "def preprocessing(input_text, del_stopwords=True, del_digit=True):\n",
    "    \"\"\"\n",
    "    :input: raw text\n",
    "        1. lowercase, del punctuation, tokenize\n",
    "        2. normal form\n",
    "        3. del stopwords\n",
    "        4. del digits\n",
    "    :return: lemmas\n",
    "    \"\"\"\n",
    "    russian_stopwords = set(stopwords.words('russian'))\n",
    "    words = [x.lower().strip(string.punctuation+'»«–…') for x in word_tokenize(input_text)]\n",
    "    lemmas = [morph.parse(x)[0].normal_form for x in words if x]\n",
    "\n",
    "    lemmas_arr = []\n",
    "    for lemma in lemmas:\n",
    "        if del_stopwords:\n",
    "            if lemma in russian_stopwords:\n",
    "                continue\n",
    "        if del_digit:\n",
    "            if lemma.isdigit():\n",
    "                continue\n",
    "        lemmas_arr.append(lemma)\n",
    "    return lemmas_arr"
   ]
  },
  {
   "cell_type": "code",
   "execution_count": 5,
   "metadata": {},
   "outputs": [],
   "source": [
    "def no_spaces(text):\n",
    "    \n",
    "    processed_text = text.replace('\\n', ' ').replace('\\n\\n', ' ').replace('ул. ', 'ул.').replace('г. ', 'г.').replace('гор. ', 'гор.').replace('с. ', 'с.')\n",
    "    return processed_text\n",
    "\n",
    "\n",
    "# убираем пробел после инициалов перед фамилией\n",
    "def clear_abbrs(processed_text):\n",
    "    initials = re.compile(r'[А-Я]{1}\\.[А-Я]{1}\\. [А-Я][а-яё]+')\n",
    "    counter = len(initials.findall(processed_text))\n",
    "\n",
    "    for s in range(counter):\n",
    "        get_abbrs = initials.search(processed_text)\n",
    "        i = get_abbrs.span()[0] + 4\n",
    "        processed_text = processed_text[:i] + processed_text[i+1:]\n",
    "    return processed_text"
   ]
  },
  {
   "cell_type": "code",
   "execution_count": 7,
   "metadata": {},
   "outputs": [],
   "source": [
    "# this function works with preprocessing func result\n",
    "def get_w2v_vectors(lemmas_arr, model):\n",
    "    \"\"\"Получает вектор документа\"\"\"\n",
    "    if len(lemmas_arr) == 0:\n",
    "        doc_vec = None\n",
    "    else:\n",
    "        vectors = []\n",
    "        for element in lemmas_arr:\n",
    "            try:\n",
    "                vec = model.wv[element]\n",
    "                # len(vec) this gives us 300\n",
    "            except KeyError:\n",
    "                continue\n",
    "            vectors.append(vec)\n",
    "        vec_sum = np.zeros(300)\n",
    "        for v in vectors:\n",
    "            vec_sum += v\n",
    "        doc_vec = vec_sum/len(vectors)   # усредненный вектор как опознаватель\n",
    "    return doc_vec"
   ]
  },
  {
   "cell_type": "code",
   "execution_count": 8,
   "metadata": {},
   "outputs": [],
   "source": [
    "# индексирует вопросы\n",
    "def save_w2v_base(qa_corpus, model):\n",
    "    \"\"\"Индексирует всю базу для поиска через word2vec\"\"\"\n",
    "    col_names =  ['question_vec', 'question', 'answer']\n",
    "    dc  = pd.DataFrame(columns = col_names)\n",
    "    for pair in tqdm(qa_corpus):\n",
    "        text, answer = pair[0], pair[1]\n",
    "        text = no_spaces(text)\n",
    "        question = clear_abbrs(text)\n",
    "        vec = get_w2v_vectors(preprocessing(question), model)\n",
    "        dc.loc[len(dc)] = [vec, question, answer]\n",
    "    return dc"
   ]
  },
  {
   "cell_type": "code",
   "execution_count": 47,
   "metadata": {},
   "outputs": [
    {
     "data": {
      "application/vnd.jupyter.widget-view+json": {
       "model_id": "d14f15206aa547cc91f1b151218d05dd",
       "version_major": 2,
       "version_minor": 0
      },
      "text/plain": [
       "HBox(children=(IntProgress(value=0, max=1384), HTML(value='')))"
      ]
     },
     "metadata": {},
     "output_type": "display_data"
    },
    {
     "name": "stdout",
     "output_type": "stream",
     "text": [
      "\n"
     ]
    }
   ],
   "source": [
    "dc = save_w2v_base(qa_corpus, model)"
   ]
  },
  {
   "cell_type": "code",
   "execution_count": 48,
   "metadata": {},
   "outputs": [
    {
     "data": {
      "text/html": [
       "<div>\n",
       "<style scoped>\n",
       "    .dataframe tbody tr th:only-of-type {\n",
       "        vertical-align: middle;\n",
       "    }\n",
       "\n",
       "    .dataframe tbody tr th {\n",
       "        vertical-align: top;\n",
       "    }\n",
       "\n",
       "    .dataframe thead th {\n",
       "        text-align: right;\n",
       "    }\n",
       "</style>\n",
       "<table border=\"1\" class=\"dataframe\">\n",
       "  <thead>\n",
       "    <tr style=\"text-align: right;\">\n",
       "      <th></th>\n",
       "      <th>question_vec</th>\n",
       "      <th>question</th>\n",
       "      <th>answer</th>\n",
       "    </tr>\n",
       "  </thead>\n",
       "  <tbody>\n",
       "    <tr>\n",
       "      <th>0</th>\n",
       "      <td>[0.020457512601730003, 0.006679873259383298, -...</td>\n",
       "      <td>Добрый день.Мой сын гражданин Украины (ДНР),и...</td>\n",
       "      <td>Добрый вечер!Из Вашего вопроса вообще ничего н...</td>\n",
       "    </tr>\n",
       "    <tr>\n",
       "      <th>1</th>\n",
       "      <td>[-0.00012631115058194035, 0.004088216117056815...</td>\n",
       "      <td>Здравствуйте, я продаю комнату в 4х комнатной...</td>\n",
       "      <td>Оксана, Вы вправе не платить налог, если являе...</td>\n",
       "    </tr>\n",
       "    <tr>\n",
       "      <th>2</th>\n",
       "      <td>[0.007701517820047836, -0.015528799515474626, ...</td>\n",
       "      <td>Можно ли подать приложения к жалобе по делу о...</td>\n",
       "      <td>Здравствуйте, Илья! Можно ли подать приложения...</td>\n",
       "    </tr>\n",
       "    <tr>\n",
       "      <th>3</th>\n",
       "      <td>[-0.004688120456800486, 0.00814481066643364, 0...</td>\n",
       "      <td>Добрый вечер.\\r Произошла мало приятная ситуа...</td>\n",
       "      <td>Представьте органу предварительного расследова...</td>\n",
       "    </tr>\n",
       "    <tr>\n",
       "      <th>4</th>\n",
       "      <td>[-0.017411477700807153, 0.007722027279669419, ...</td>\n",
       "      <td>Я брала займ 5000 т.р произошли трудности в ж...</td>\n",
       "      <td>Прямо в полицию и обращайтесь, в заявлении про...</td>\n",
       "    </tr>\n",
       "  </tbody>\n",
       "</table>\n",
       "</div>"
      ],
      "text/plain": [
       "                                        question_vec  \\\n",
       "0  [0.020457512601730003, 0.006679873259383298, -...   \n",
       "1  [-0.00012631115058194035, 0.004088216117056815...   \n",
       "2  [0.007701517820047836, -0.015528799515474626, ...   \n",
       "3  [-0.004688120456800486, 0.00814481066643364, 0...   \n",
       "4  [-0.017411477700807153, 0.007722027279669419, ...   \n",
       "\n",
       "                                            question  \\\n",
       "0   Добрый день.Мой сын гражданин Украины (ДНР),и...   \n",
       "1   Здравствуйте, я продаю комнату в 4х комнатной...   \n",
       "2   Можно ли подать приложения к жалобе по делу о...   \n",
       "3   Добрый вечер.\\r Произошла мало приятная ситуа...   \n",
       "4   Я брала займ 5000 т.р произошли трудности в ж...   \n",
       "\n",
       "                                              answer  \n",
       "0  Добрый вечер!Из Вашего вопроса вообще ничего н...  \n",
       "1  Оксана, Вы вправе не платить налог, если являе...  \n",
       "2  Здравствуйте, Илья! Можно ли подать приложения...  \n",
       "3  Представьте органу предварительного расследова...  \n",
       "4  Прямо в полицию и обращайтесь, в заявлении про...  "
      ]
     },
     "execution_count": 48,
     "metadata": {},
     "output_type": "execute_result"
    }
   ],
   "source": [
    "dc.head()"
   ]
  },
  {
   "cell_type": "code",
   "execution_count": 9,
   "metadata": {},
   "outputs": [],
   "source": [
    "from gensim import matutils\n",
    "\n",
    "def similarity(v1, v2):\n",
    "    v1_norm = matutils.unitvec(np.array(v1))\n",
    "    v2_norm = matutils.unitvec(np.array(v2))\n",
    "    return np.dot(v1_norm, v2_norm)"
   ]
  },
  {
   "cell_type": "code",
   "execution_count": 10,
   "metadata": {},
   "outputs": [],
   "source": [
    "def search_w2v(query, model_vectors, doc_text, model):\n",
    "    \"\"\"\n",
    "    :doc_text: questions?\n",
    "    :query: all answers\n",
    "    \"\"\"\n",
    "    lemmas_query = preprocessing(query)\n",
    "    query_vector = get_w2v_vectors(lemmas_query, model)\n",
    "    # print(type(query_vector))\n",
    "    result = []\n",
    "    i = 0\n",
    "    for vec in model_vectors:\n",
    "        # print(type(vec))\n",
    "        similar = similarity(query_vector, vec)\n",
    "        result.append((doc_text[i], similar))\n",
    "        i += 1\n",
    "    res = pd.DataFrame(result, columns=['question','similarity'])\n",
    "    return res.sort_values('similarity', ascending=False)  # sort by similarity"
   ]
  },
  {
   "cell_type": "code",
   "execution_count": 75,
   "metadata": {},
   "outputs": [
    {
     "data": {
      "application/vnd.jupyter.widget-view+json": {
       "model_id": "ef75957a140445fc8eb61cfa579687c8",
       "version_major": 2,
       "version_minor": 0
      },
      "text/plain": [
       "HBox(children=(IntProgress(value=1, bar_style='info', max=1), HTML(value='')))"
      ]
     },
     "metadata": {},
     "output_type": "display_data"
    },
    {
     "name": "stdout",
     "output_type": "stream",
     "text": [
      "\n",
      "0\n"
     ]
    }
   ],
   "source": [
    "# test run for accuracy\n",
    "correct = 0\n",
    "for i, answer in tqdm(enumerate(dc['answer'])):\n",
    "    res = search_w2v(answer, dc['question_vec'], dc['question'], model)[:5]['question']\n",
    "    if dc['question'][i] in res:\n",
    "        correct += 1\n",
    "print(correct)"
   ]
  },
  {
   "cell_type": "markdown",
   "metadata": {},
   "source": [
    "Accuracy = 0 :( Ничего ни разу не совпало. Ну значит, это плохой метод."
   ]
  },
  {
   "cell_type": "code",
   "execution_count": 17,
   "metadata": {},
   "outputs": [],
   "source": [
    "def accuracy(all_answers, question_vec, all_questions, model):\n",
    "    correct = 0\n",
    "    for i, answer in tqdm(enumerate(all_answers)):\n",
    "        res = search_w2v(answer, question_vec, all_questions, model)[:5]['question']\n",
    "        if all_questions[i] in res:\n",
    "            correct += 1\n",
    "    return correct"
   ]
  },
  {
   "cell_type": "markdown",
   "metadata": {},
   "source": [
    "Можно разбить выборку и сравнивать вопросы с вопросами, а не ответы с вопросами. Например, 30% всего корпуса будут вопросы как бы от пользователя, а база, по которой ищем будет состоять из 70% корпуса. И тогда мы будем сравнивать вопросы пользователей с вопросами из базы. Но тогда мы не сможем посчитать accuracy, потому что правильный ответы будут как бы неизвестны."
   ]
  },
  {
   "cell_type": "markdown",
   "metadata": {},
   "source": [
    "Еще можно обучить свою модель word2vec, например, на части текстов из нашего корпуса, например на 80 %, а потом потестить эту модель на 20 %."
   ]
  },
  {
   "cell_type": "code",
   "execution_count": 13,
   "metadata": {},
   "outputs": [
    {
     "data": {
      "application/vnd.jupyter.widget-view+json": {
       "model_id": "416d62ea57b142efb26b2ec88660a187",
       "version_major": 2,
       "version_minor": 0
      },
      "text/plain": [
       "HBox(children=(IntProgress(value=0, max=1107), HTML(value='')))"
      ]
     },
     "metadata": {},
     "output_type": "display_data"
    },
    {
     "name": "stdout",
     "output_type": "stream",
     "text": [
      "\n"
     ]
    },
    {
     "data": {
      "text/plain": [
       "(1056400, 1273800)"
      ]
     },
     "execution_count": 13,
     "metadata": {},
     "output_type": "execute_result"
    }
   ],
   "source": [
    "documents = []\n",
    "for el in tqdm(qa_corpus[:1107]):  # first 80%\n",
    "    q = el[0]\n",
    "    q = preprocessing(q)\n",
    "    documents.append(q)\n",
    "    \n",
    "my_model = gensim.models.Word2Vec(\n",
    "        documents,\n",
    "        size=300,\n",
    "        window=10,\n",
    "        min_count=2,\n",
    "        workers=4)\n",
    "my_model.train(documents, total_examples=len(documents), epochs=30)    "
   ]
  },
  {
   "cell_type": "code",
   "execution_count": 14,
   "metadata": {},
   "outputs": [
    {
     "data": {
      "application/vnd.jupyter.widget-view+json": {
       "model_id": "53565a4522b24d14a3fb10c76dc705b6",
       "version_major": 2,
       "version_minor": 0
      },
      "text/plain": [
       "HBox(children=(IntProgress(value=0, max=277), HTML(value='')))"
      ]
     },
     "metadata": {},
     "output_type": "display_data"
    },
    {
     "name": "stdout",
     "output_type": "stream",
     "text": [
      "\n"
     ]
    }
   ],
   "source": [
    "dc2 = save_w2v_base(qa_corpus[1107:], my_model)"
   ]
  },
  {
   "cell_type": "code",
   "execution_count": 15,
   "metadata": {},
   "outputs": [
    {
     "data": {
      "text/html": [
       "<div>\n",
       "<style scoped>\n",
       "    .dataframe tbody tr th:only-of-type {\n",
       "        vertical-align: middle;\n",
       "    }\n",
       "\n",
       "    .dataframe tbody tr th {\n",
       "        vertical-align: top;\n",
       "    }\n",
       "\n",
       "    .dataframe thead th {\n",
       "        text-align: right;\n",
       "    }\n",
       "</style>\n",
       "<table border=\"1\" class=\"dataframe\">\n",
       "  <thead>\n",
       "    <tr style=\"text-align: right;\">\n",
       "      <th></th>\n",
       "      <th>question_vec</th>\n",
       "      <th>question</th>\n",
       "      <th>answer</th>\n",
       "    </tr>\n",
       "  </thead>\n",
       "  <tbody>\n",
       "    <tr>\n",
       "      <th>0</th>\n",
       "      <td>[0.12066721859829206, 0.010513915582314917, -0...</td>\n",
       "      <td>добрый день с наступающим новым годом работал...</td>\n",
       "      <td>Здравствуйте. Можете обратиться в инспекцию по...</td>\n",
       "    </tr>\n",
       "    <tr>\n",
       "      <th>1</th>\n",
       "      <td>[0.12527427914652176, 0.06167132819869688, -0....</td>\n",
       "      <td>Добрый день. Попал в аварию вызвали комиссара...</td>\n",
       "      <td>Михаил, вам необходимо было второй экземпляр е...</td>\n",
       "    </tr>\n",
       "    <tr>\n",
       "      <th>2</th>\n",
       "      <td>[-0.10231609290457089, -0.09004459154136756, -...</td>\n",
       "      <td>сдраствуйте у меня такая ситуацыя я щас нахож...</td>\n",
       "      <td>Александр,как правило, в таких случаях наказан...</td>\n",
       "    </tr>\n",
       "    <tr>\n",
       "      <th>3</th>\n",
       "      <td>[-0.06411619518573085, -0.08648401313306144, -...</td>\n",
       "      <td>До какого времени можно играть на музыкальных...</td>\n",
       "      <td>В каждом субъекте федерации имеется свои норма...</td>\n",
       "    </tr>\n",
       "    <tr>\n",
       "      <th>4</th>\n",
       "      <td>[0.048908219197574924, -0.02549409524214511, -...</td>\n",
       "      <td>Здравствуйте.у меня такой вопрос я взял ипоте...</td>\n",
       "      <td>Добрый вечер, Василий!Первичный документ для н...</td>\n",
       "    </tr>\n",
       "  </tbody>\n",
       "</table>\n",
       "</div>"
      ],
      "text/plain": [
       "                                        question_vec  \\\n",
       "0  [0.12066721859829206, 0.010513915582314917, -0...   \n",
       "1  [0.12527427914652176, 0.06167132819869688, -0....   \n",
       "2  [-0.10231609290457089, -0.09004459154136756, -...   \n",
       "3  [-0.06411619518573085, -0.08648401313306144, -...   \n",
       "4  [0.048908219197574924, -0.02549409524214511, -...   \n",
       "\n",
       "                                            question  \\\n",
       "0   добрый день с наступающим новым годом работал...   \n",
       "1   Добрый день. Попал в аварию вызвали комиссара...   \n",
       "2   сдраствуйте у меня такая ситуацыя я щас нахож...   \n",
       "3   До какого времени можно играть на музыкальных...   \n",
       "4   Здравствуйте.у меня такой вопрос я взял ипоте...   \n",
       "\n",
       "                                              answer  \n",
       "0  Здравствуйте. Можете обратиться в инспекцию по...  \n",
       "1  Михаил, вам необходимо было второй экземпляр е...  \n",
       "2  Александр,как правило, в таких случаях наказан...  \n",
       "3  В каждом субъекте федерации имеется свои норма...  \n",
       "4  Добрый вечер, Василий!Первичный документ для н...  "
      ]
     },
     "execution_count": 15,
     "metadata": {},
     "output_type": "execute_result"
    }
   ],
   "source": [
    "dc2.head()"
   ]
  },
  {
   "cell_type": "code",
   "execution_count": 18,
   "metadata": {},
   "outputs": [
    {
     "data": {
      "application/vnd.jupyter.widget-view+json": {
       "model_id": "2d679123268643bc9482ffe035d9507f",
       "version_major": 2,
       "version_minor": 0
      },
      "text/plain": [
       "HBox(children=(IntProgress(value=1, bar_style='info', max=1), HTML(value='')))"
      ]
     },
     "metadata": {},
     "output_type": "display_data"
    },
    {
     "name": "stdout",
     "output_type": "stream",
     "text": [
      "\n",
      "0\n"
     ]
    }
   ],
   "source": [
    "correct = accuracy(dc2['answer'], dc2['question_vec'], dc2['question'], my_model)\n",
    "print(correct)"
   ]
  },
  {
   "cell_type": "markdown",
   "metadata": {},
   "source": [
    "## Doc2vec"
   ]
  },
  {
   "cell_type": "code",
   "execution_count": null,
   "metadata": {},
   "outputs": [],
   "source": []
  },
  {
   "cell_type": "markdown",
   "metadata": {},
   "source": [
    "## Inverted Index"
   ]
  },
  {
   "cell_type": "code",
   "execution_count": null,
   "metadata": {},
   "outputs": [],
   "source": []
  },
  {
   "cell_type": "markdown",
   "metadata": {},
   "source": [
    "## Блендинг методов поиска"
   ]
  },
  {
   "cell_type": "code",
   "execution_count": null,
   "metadata": {},
   "outputs": [],
   "source": []
  }
 ],
 "metadata": {
  "kernelspec": {
   "display_name": "Python 3",
   "language": "python",
   "name": "python3"
  },
  "language_info": {
   "codemirror_mode": {
    "name": "ipython",
    "version": 3
   },
   "file_extension": ".py",
   "mimetype": "text/x-python",
   "name": "python",
   "nbconvert_exporter": "python",
   "pygments_lexer": "ipython3",
   "version": "3.7.0"
  }
 },
 "nbformat": 4,
 "nbformat_minor": 2
}
